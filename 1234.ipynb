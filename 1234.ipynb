{
    "cells": [
        {
            "cell_type": "markdown",
            "metadata": {},
            "source": "**Test 2**"
        },
        {
            "cell_type": "code",
            "execution_count": 1,
            "metadata": {},
            "outputs": [
                {
                    "name": "stdout",
                    "output_type": "stream",
                    "text": "+----+----+--------------+-----+-------+------+------+---------+---------+--------+---------+-------+------+--------------+--------+---+----+----+\n|year|code|          name|round| league|region|decade|superliga|     city|areacode| metropol|    pop|   gdp|       country|eurostat|ecb|cowc|cown|\n+----+----+--------------+-----+-------+------+------+---------+---------+--------+---------+-------+------+--------------+--------+---+----+----+\n|1981| LIV|  Liverpool FC|    W|England| Big 5| 1980s|      Yes|Liverpool|   UK006|Liverpool|1533860| 50484|United Kingdom|      UK| GB| UKG| 200|\n|1981| MAD|Real Madrid CF|   RU|  Spain| Big 5| 1980s|      Yes|   Madrid|   ES001|   Madrid|6791667|342534|         Spain|      ES| ES| SPN| 230|\n|1981| BMN|     FC Bayern|   SF|Germany| Big 5| 1980s|       No|  M\u00fcnchen|   DE003|   Munich|2883373|241407|       Germany|      DE| DE| GMY| 255|\n|1981| INT|FC Inter Milan|   SF|  Italy| Big 5| 1980s|      Yes|   Milano|   IT002|    Milan|5145657|301366|         Italy|      IT| IT| ITA| 325|\n|1981| BEL|      Red Star|   QF| Serbia|  East| 1980s|       No| Belgrade|Belgrade|       NA|     NA|    NA|            NA|      NA| NA|  NA|  NA|\n+----+----+--------------+-----+-------+------+------+---------+---------+--------+---------+-------+------+--------------+--------+---+----+----+\nonly showing top 5 rows\n\n"
                },
                {
                    "data": {
                        "text/plain": "configurationName = os_1487c10f6934497d9da5370ab1382696_configs\nendpoint_1487c10f6934497d9da5370ab1382696 = https://s3.private.us.cloud-object-storage.appdomain.cloud\ncos = com.ibm.ibmos2spark.CloudObjectStorage@365b13b9\nspark = org.apache.spark.sql.SparkSession@53c7ef95\ndfData1 = [year: int, code: string ... 16 more fields]\n"
                    },
                    "metadata": {},
                    "output_type": "display_data"
                },
                {
                    "data": {
                        "text/plain": "getCredentials: ()scala.collection.mutable.HashMap[String,String]\n"
                    },
                    "metadata": {},
                    "output_type": "display_data"
                },
                {
                    "data": {
                        "text/plain": "[year: int, code: string ... 16 more fields]"
                    },
                    "execution_count": 1,
                    "metadata": {},
                    "output_type": "execute_result"
                }
            ],
            "source": "// The code was removed by Watson Studio for sharing."
        },
        {
            "cell_type": "code",
            "execution_count": null,
            "metadata": {},
            "outputs": [],
            "source": ""
        }
    ],
    "metadata": {
        "kernelspec": {
            "display_name": "Scala 2.12 with Spark",
            "language": "scala",
            "name": "scala"
        },
        "language_info": {
            "codemirror_mode": "text/x-scala",
            "file_extension": ".scala",
            "mimetype": "text/x-scala",
            "name": "scala",
            "pygments_lexer": "scala",
            "version": "2.12.12"
        }
    },
    "nbformat": 4,
    "nbformat_minor": 1
}